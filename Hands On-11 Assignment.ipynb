{
 "cells": [
  {
   "cell_type": "code",
   "execution_count": 1,
   "metadata": {},
   "outputs": [
    {
     "name": "stdout",
     "output_type": "stream",
     "text": [
      "[15, 25, 35]\n",
      "Array size: 3\n",
      "Array capacity: 4\n"
     ]
    }
   ],
   "source": [
    "import ctypes\n",
    "\n",
    "class DynamicArray:\n",
    "    def __init__(self):\n",
    "        # Initial capacity of the array\n",
    "        self.capacity = 1\n",
    "        # Current size of elements in the array\n",
    "        self.size = 0\n",
    "        # Create an initial array with a fixed capacity\n",
    "        self.array = self._make_array(self.capacity)\n",
    "\n",
    "    def _make_array(self, new_capacity):\n",
    "        # Helper method to create a new array of given capacity\n",
    "        return (new_capacity * ctypes.py_object)()\n",
    "\n",
    "    def append(self, element):\n",
    "        # Add an element to the end of the array\n",
    "        if self.size == self.capacity:\n",
    "            self._resize(2 * self.capacity)  # Double the capacity when full\n",
    "\n",
    "        self.array[self.size] = element\n",
    "        self.size += 1\n",
    "\n",
    "    def _resize(self, new_capacity):\n",
    "        # Resize the array to a new capacity\n",
    "        new_array = self._make_array(new_capacity)\n",
    "\n",
    "        # Copy elements to the new array\n",
    "        for i in range(self.size):\n",
    "            new_array[i] = self.array[i]\n",
    "\n",
    "        self.array = new_array\n",
    "        self.capacity = new_capacity\n",
    "\n",
    "    def get(self, index):\n",
    "        # Get an element at a specific index\n",
    "        if not 0 <= index < self.size:\n",
    "            raise IndexError(\"Index out of bounds\")\n",
    "        return self.array[index]\n",
    "\n",
    "    def set(self, index, element):\n",
    "        # Set an element at a specific index\n",
    "        if not 0 <= index < self.size:\n",
    "            raise IndexError(\"Index out of bounds\")\n",
    "        self.array[index] = element\n",
    "\n",
    "    def __len__(self):\n",
    "        # Return the number of elements in the array\n",
    "        return self.size\n",
    "\n",
    "    def __str__(self):\n",
    "        # String representation of the dynamic array\n",
    "        return \"[\" + \", \".join(str(self.array[i]) for i in range(self.size)) + \"]\"\n",
    "\n",
    "# Example usage:\n",
    "if __name__ == \"__main__\":\n",
    "    dyn_array = DynamicArray()\n",
    "    dyn_array.append(15)\n",
    "    dyn_array.append(25)\n",
    "    dyn_array.append(35)\n",
    "    print(dyn_array)  \n",
    "    print(\"Array size:\", len(dyn_array))  \n",
    "    print(\"Array capacity:\", dyn_array.capacity)  \n"
   ]
  },
  {
   "cell_type": "code",
   "execution_count": null,
   "metadata": {},
   "outputs": [],
   "source": []
  }
 ],
 "metadata": {
  "kernelspec": {
   "display_name": "base",
   "language": "python",
   "name": "python3"
  },
  "language_info": {
   "codemirror_mode": {
    "name": "ipython",
    "version": 3
   },
   "file_extension": ".py",
   "mimetype": "text/x-python",
   "name": "python",
   "nbconvert_exporter": "python",
   "pygments_lexer": "ipython3",
   "version": "3.11.5"
  }
 },
 "nbformat": 4,
 "nbformat_minor": 2
}
